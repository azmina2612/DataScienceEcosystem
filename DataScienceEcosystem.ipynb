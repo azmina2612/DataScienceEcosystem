{
 "cells": [
  {
   "cell_type": "markdown",
   "id": "ec9c4755-c383-418d-a9eb-cc3f8f7d08b1",
   "metadata": {},
   "source": [
    "# Data Science Tools and Ecosystem"
   ]
  },
  {
   "cell_type": "markdown",
   "id": "cd7c0695-64a6-420b-9f7f-8dd48f2cbbbf",
   "metadata": {},
   "source": [
    "In this notebook, Data Science Tools and Ecosystem are summarized."
   ]
  },
  {
   "cell_type": "markdown",
   "id": "7c92540a-b977-41c3-8d94-a032b48c0067",
   "metadata": {},
   "source": [
    "**Objectives:**\n",
    "- List popular languages for Data Science\n",
    "- List of the commonly used libraries used by Data Scientists\n",
    "- List of Data Science Tools\n",
    "- Example of simple arithmetic expression\n",
    "- Example of hours to minute conversion"
   ]
  },
  {
   "cell_type": "markdown",
   "id": "9e8350cb-2dd8-4ae3-bd29-09eca82d8287",
   "metadata": {
    "jp-MarkdownHeadingCollapsed": true
   },
   "source": [
    "Some of the popular languages that Data Scientists use are:\n",
    "1. Python\n",
    "2. R\n",
    "3. SQL"
   ]
  },
  {
   "cell_type": "markdown",
   "id": "f6dd9250-8d1b-4d1b-a8d0-030a97f2d278",
   "metadata": {},
   "source": [
    "Some of the commonly used libraries used by Data Scientists include:\n",
    "1. NumPy\n",
    "2. Pandas\n",
    "3. Seaborn"
   ]
  },
  {
   "cell_type": "markdown",
   "id": "68ec559d-b51a-40a9-9d20-05c620a23dff",
   "metadata": {},
   "source": [
    "|Data Science Tools | \n",
    "| ------ | \n",
    "| Jupyter Notebook | \n",
    "|RStudio |\n",
    "| Google Colab | \n"
   ]
  },
  {
   "cell_type": "markdown",
   "id": "e0926eb1-fc22-4341-8752-deee4b667fc2",
   "metadata": {},
   "source": [
    "### Below are a few examples of evaluating arithmetic expressions in Python"
   ]
  },
  {
   "cell_type": "code",
   "execution_count": 11,
   "id": "d8624dab-e0b5-431e-a386-e48c3149aa9d",
   "metadata": {},
   "outputs": [
    {
     "data": {
      "text/plain": [
       "17"
      ]
     },
     "execution_count": 11,
     "metadata": {},
     "output_type": "execute_result"
    }
   ],
   "source": [
    "# This a simple arithmetic expression to mutiply then add integers\n",
    "(3*4)+5"
   ]
  },
  {
   "cell_type": "code",
   "execution_count": 12,
   "id": "91700b0c-6e48-4fc0-842c-49afce6cf39b",
   "metadata": {},
   "outputs": [
    {
     "data": {
      "text/plain": [
       "3.3333333333333335"
      ]
     },
     "execution_count": 12,
     "metadata": {},
     "output_type": "execute_result"
    }
   ],
   "source": [
    "#This will convert 200 minutes to hours by diving by 60\n",
    "200/60"
   ]
  },
  {
   "cell_type": "markdown",
   "id": "9e0b9b67-8a23-444f-a55c-5133baa10e13",
   "metadata": {},
   "source": [
    "## Author\n",
    "Nur Azmina"
   ]
  },
  {
   "cell_type": "code",
   "execution_count": null,
   "id": "40d8be70-dba1-48cd-aa77-959f2ab2a23c",
   "metadata": {},
   "outputs": [],
   "source": []
  }
 ],
 "metadata": {
  "kernelspec": {
   "display_name": "Python 3 (ipykernel)",
   "language": "python",
   "name": "python3"
  },
  "language_info": {
   "codemirror_mode": {
    "name": "ipython",
    "version": 3
   },
   "file_extension": ".py",
   "mimetype": "text/x-python",
   "name": "python",
   "nbconvert_exporter": "python",
   "pygments_lexer": "ipython3",
   "version": "3.13.3"
  }
 },
 "nbformat": 4,
 "nbformat_minor": 5
}
